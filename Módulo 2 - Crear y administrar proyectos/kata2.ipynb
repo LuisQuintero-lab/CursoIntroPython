# Crear un paquete

Se utiliza un entorno virtual para trabajar de manera aislada con paquetes u otros programas que se ejecutan, de esta forma estos procesos se mantendran en un entorno virtual en lugar de funcionar globalmente en el equipo

## Crear un entorno virtual

Utilizamos ``venv`` para crear nuestro entorno con el siguiente comando

```
python -m venv env
```
