{
 "cells": [
  {
   "cell_type": "markdown",
   "metadata": {},
   "source": [
    "# Introducción\n",
    "\n",
    "Construir un programa en python para aprender a usar entradas y salidas en consola, se emplean conceptos de programacion como variables y conversion de tipos de datos\n",
    "\n",
    "### Escenario: UN programador junior creando sus primeras aplicaciones\n",
    "\n",
    "En este escenario, eres un joven cadete espacial en una nave espacial en algún momento en el futuro. Tu misión es encontrar y explorar nuevos sistemas solares. Estás capacitado como ingenierx y estás buscando desarrollar una serie de programas de servicios públicos para el personal más alto a bordo.\n",
    "\n",
    "### Aprendizaje \n",
    "\n",
    "* Utilizar funciones para administrar la entrada y salida de consola\n",
    "* Crear variables para almacenar datos\n",
    "* Distinguir entre tipos de datos\n",
    "* Utilizar la conversion de tipo para convertir entre tipos de datos\n",
    "\n",
    "### Objetivo\n",
    "\n",
    "Utilizar elementos basicos de programacion para crear tus primeros programas de python\n",
    "\n",
    "## Trabajar con salidas\n",
    "\n",
    "Cuando comienzas a aprender cualquier lenguaje de programación, primero pruebas algunas declaraciones de código en un bucle de lectura-evaluación-impresión (REPL). Sin embargo, pronto querrás pasar a un desarrollo serio. Eso significa aprender más sobre el idioma, cómo estructurar un programa y más.\n",
    "\n",
    "### Un programa en Python\n",
    "\n",
    "Para crear un programa en Python, debes almacenarlo en un archivo. El archivo debe tener la extensión .py.\n",
    "\n",
    "La idea de un programa es hacer algo, llevar a cabo una tarea. Para que el programa haga algo, debe agregar instrucciones de código que realicen instrucciones. Una instrucción podría imprimir algún texto o calcular algo, por ejemplo. Un programa de ejemplo puede tener un aspecto similar al siguiente:\n",
    "\n",
    "    # program.py\n",
    "    sum = 1 + 2\n",
    "    print(sum)\n",
    "\n",
    "### Ejecutar un programa\n",
    "\n",
    "Supongamos que has creado un programa que consta de instrucciones. Para ejecutarlo hay que invocar el programa ejecutable de Python, seguido del nombre del programa. Aquí hay un ejemplo de tal invocación:\n",
    "\n",
    "    python3 program.py\n",
    "La ejecución de un programa de este tipo mostraría el siguiente resultado en la consola:\n",
    "\n",
    "    3\n",
    "\n",
    "### La función print()\n",
    "Una de las primeras cosas que es probable que hagas es imprimir en una consola. Una consola es una aplicación de línea de comandos que te permite interactuar con el sistema operativo. En la consola, puedes ejecutar comandos y programas. También puedes ingresar información y mostrar información como texto en la pantalla.\n",
    "\n",
    "Para escribir información en la consola, puedes utilizar la función e implementarla como función principal. Debido a que es una función central, tendrás acceso a ella si Python está instalado. Para usarla dale un argumento: print()print()\n",
    "\n",
    "    print('Hola desde la consola')"
   ]
  },
  {
   "cell_type": "code",
   "execution_count": 1,
   "metadata": {},
   "outputs": [
    {
     "name": "stdout",
     "output_type": "stream",
     "text": [
      "Hola mundo! este es un mensaje desde la consola\n"
     ]
    }
   ],
   "source": [
    "# Impresión en pantalla print('Hola desde la consola')\n",
    "\n",
    "print(\"Hola mundo! este es un mensaje desde la consola\")"
   ]
  },
  {
   "cell_type": "markdown",
   "metadata": {},
   "source": [
    "Observa cómo el comando anterior invoca mediante paréntesis. Así es como invocas una función. Si usaras corchetes () en lugar de paréntesis, no funcionaría:print[]\n",
    "\n",
    "### Variables\n",
    "\n",
    "Para avanzar en la programación, debes comprender que estás operando con datos. Como tu programa está trabajando en datos, es posible que deba recordar un cierto valor a lo largo de la ejecución del programa. Para eso, se utilizan variables.\n",
    "\n",
    "En el ejemplo siguiente se realiza un cálculo y se almacena en variables:\n",
    "\n",
    "    sum = 1 + 2 # 3\n",
    "    product = sum * 2\n",
    "    print(product)"
   ]
  },
  {
   "cell_type": "code",
   "execution_count": 2,
   "metadata": {},
   "outputs": [
    {
     "name": "stdout",
     "output_type": "stream",
     "text": [
      "6\n"
     ]
    }
   ],
   "source": [
    "# Tu turno, prueba el fragmento de código anterior\n",
    "sum = 1 + 2 # 3\n",
    "product = sum * 2\n",
    "print(product)"
   ]
  },
  {
   "cell_type": "markdown",
   "metadata": {},
   "source": [
    "### Tipos de datos\n",
    "\n",
    "Una variable asume un tipo de datos. En el programa anterior, obtiene el tipo . Pero hay muchos más tipos de datos. Aquí hay algunos que es probable que encuentre: sum int\n",
    "\n",
    "| Tipo            | Desdripcion                 | Ejemplo                   |\n",
    "|-----------------|-----------------------------|---------------------------|\n",
    "| Tipo numerico   | Numero con o sin decimales  | int, float, complex, no=3 |\n",
    "| Tipo de texto   | Cadena de caracteres        | str = \"a literal string\"  |\n",
    "| Tipo booleano   | Booleano                    | continue = True           |\n",
    "\n",
    "Hay tipos más complejos, pero comencemos con estos.\n",
    "\n",
    "Aquí hay un fragmento de código que muestra algunos de los tipos anteriores:\n",
    "\n",
    "    planetas_en_el_sistema_solar = 8 # int, plutón era considerado un planeta pero ya es muy pequeño\n",
    "    distancia_a_alfa_centauri = 4.367 # float, años luz\n",
    "    puede_despegar = True\n",
    "    transbordador_que_aterrizo_en_la_luna = \"Apollo 11\" #string\n",
    "\n",
    "¿Cómo sabes qué tipo tiene algo? Si ve los datos asignados a la variable como se muestra en el código siguiente, puede detectarlos:\n",
    "\n",
    "    distancia_a_alfa_centauri = 4.367 # Parece un decimal flotante\n",
    "\n",
    "La otra forma es usar la función:type()\n",
    "\n",
    "    type(distancia_a_alfa_centauri)"
   ]
  },
  {
   "cell_type": "code",
   "execution_count": 9,
   "metadata": {},
   "outputs": [
    {
     "data": {
      "text/plain": [
       "float"
      ]
     },
     "execution_count": 9,
     "metadata": {},
     "output_type": "execute_result"
    }
   ],
   "source": [
    "# Declaramos la variable\n",
    "distancia_a_alfa_centauri = 4.367\n",
    "\n",
    "# Descubrimos su tipo de dato\n",
    "type(distancia_a_alfa_centauri)"
   ]
  },
  {
   "cell_type": "code",
   "execution_count": 10,
   "metadata": {},
   "outputs": [
    {
     "data": {
      "text/plain": [
       "str"
      ]
     },
     "execution_count": 10,
     "metadata": {},
     "output_type": "execute_result"
    }
   ],
   "source": [
    "# Declaramos la variable\n",
    "estrella_mas_cercana=\"Alfa Cntauri\"\n",
    "\n",
    "# Descubrimos su tipo de dato\n",
    "type(estrella_mas_cercana)"
   ]
  },
  {
   "cell_type": "code",
   "execution_count": 11,
   "metadata": {},
   "outputs": [
    {
     "data": {
      "text/plain": [
       "bool"
      ]
     },
     "execution_count": 11,
     "metadata": {},
     "output_type": "execute_result"
    }
   ],
   "source": [
    "# Declaramos la variable\n",
    "es_posible_visitar_la_estrella = True\n",
    "\n",
    "# Descubrimos su tipo de dato\n",
    "type(es_posible_visitar_la_estrella)"
   ]
  },
  {
   "cell_type": "code",
   "execution_count": 14,
   "metadata": {},
   "outputs": [
    {
     "name": "stdout",
     "output_type": "stream",
     "text": [
      "Target: Alfa Cntauri\n",
      "Distance: 4.367\n",
      "is it possible to travel there?: True\n"
     ]
    }
   ],
   "source": [
    "print(\"Target: \" + estrella_mas_cercana)\n",
    "print(\"Distance: \" + str(distancia_a_alfa_centauri))\n",
    "print(\"is it possible to travel there?: \" + str(es_posible_visitar_la_estrella))"
   ]
  },
  {
   "cell_type": "markdown",
   "metadata": {},
   "source": [
    "### Operadores\n",
    "\n",
    "Los operadores le permiten realizar cálculos sobre variables y sus valores. La idea general es que tienes un lado izquierdo y un lado derecho y un operador en el medio:\n",
    "\n",
    "    <left side> <operator> <right side>\n",
    "\n",
    "Así es como se vería un ejemplo real del código de marcador de posición anterior:\n",
    "\n",
    "    left_side = 10\n",
    "    right_side = 5\n",
    "    left_side / right_side # 2\n",
    "\n",
    "En este ejemplo se utiliza una barra diagonal (/) para dividir el valor por el valor. left_side right_side\n",
    "\n",
    "Hay muchos más operadores.\n",
    "\n",
    "Python utiliza dos tipos de operadores: aritmética y asignación.\n",
    "\n",
    "### Operadores aritméticos\n",
    "\n",
    "Con los operadores aritméticos, se realizan cálculos como suma, resta, división y multiplicación. Aquí hay un subconjunto de operadores aritméticos que puede usar:\n",
    "\n",
    "| Tipo| Desdripcion                                                                                      | Ejemplo|\n",
    "|-----|--------------------------------------------------------------------------------------------------|--------|\n",
    "| +   | Operador de adición que suma dos valores juntos\t                                                 | 1 + 1  |\n",
    "| -   | Operador de resta que quita el valor del lado derecho del lado izquierdo                         | 1 - 2  |\n",
    "| /   | Operador de división que divide el lado izquierdo tantas veces como especifique el lado derecho  | 10 / 2 |\n",
    "| *   | Operador de multiplicación                                                                       | 2 * 2  |\n",
    "\n",
    "### Operadores de asignación\n",
    "\n",
    "Los operadores de asignación se utilizan para asignar valores a una variable a lo largo del ciclo de vida de la variable. Estos son algunos operadores de asignación que es probable que encuentres a medida que aprendes a crear programas:\n",
    "\n",
    "| Operador| Ejemplo                                                                        |\n",
    "|---------|--------------------------------------------------------------------------------|\n",
    "| =       | x + 2   x ahora contiene 2.                                                    |\n",
    "| +=      | x += 2   x incrementado en 2. Si antes contenia 2, ahora tiene un valor de 4.  |\n",
    "| -=      | x -= 2   x decrementado en 2. Si antes contenia 2, ahora tiene un valor de 0.  |\n",
    "| /=      | x /= 2   x dividido entre 2. Si antes contenia 2, ahora tiene un valor de 1.   |\n",
    "| *=      | x *= 2   x multiplicado por 2. Si antes contenia 2, ahora tiene un valor de 4. |\n",
    "\n",
    "### Fechas\n",
    "\n",
    "Cuando estás creando programas, es probable que interactúes con las fechas. Una fecha en un programa generalmente significa tanto la fecha del calendario como la hora.\n",
    "\n",
    "Una fecha se puede utilizar en varias aplicaciones, como estos ejemplos:\n",
    "\n",
    "* Archivo de copia de seguridad. Usar una fecha como parte del nombre de un archivo de copia de seguridad es una buena manera de indicar cuándo se realizó una copia de seguridad y cuándo debe realizarse nuevamente.\n",
    "* Condición. Es posible que desee llevar una lógica específica cuando hay una fecha determinada.\n",
    "* Métrica. Las fechas se utilizan para comprobar el rendimiento del código para, por ejemplo, medir el tiempo que se tarda en ejecutar una función.\n",
    "\n",
    "Para trabajar con una fecha, debe importar el módulo: date\n",
    "\n",
    "    from datetime import date\n",
    "\n",
    "A continuación, puede invocar las funciones con las que desea trabajar. Para obtener la fecha de hoy, puede llamar a la función: today()\n",
    "\n",
    "    date.today()\n",
    "\n",
    "Para mostrar la fecha en la consola, puede usar la función. La función toma muchos tipos de datos como entrada. Así es como puedes mostrar la fecha de hoy: print()\n",
    "\n",
    "    print(date.today())"
   ]
  },
  {
   "cell_type": "code",
   "execution_count": 6,
   "metadata": {},
   "outputs": [
    {
     "name": "stdout",
     "output_type": "stream",
     "text": [
      "2022-02-09\n"
     ]
    }
   ],
   "source": [
    "# Importamos la biblioteca \n",
    "from datetime import date\n",
    "\n",
    "# Obtenemos la fecha de hoy\n",
    "date.today()\n",
    "\n",
    "# Mostramos la fecha en la consola\n",
    "print(date.today())"
   ]
  },
  {
   "cell_type": "markdown",
   "metadata": {},
   "source": [
    "### Conversión de tipos de datos\n",
    "Quieres usar una fecha con un mensaje. Ese algo suele ser un problema. Si, por ejemplo, desea mostrar la fecha de hoy en la consola, es posible que tenga un problema:\n",
    "\n",
    "    print(\"Today's date is: \" + date.today())\n",
    "\n",
    "Lo que obtienes es un error:\n",
    "\n",
    "    ---------------------------------------------------------------------------\n",
    "    TypeError                                 Traceback (most recent call last)\n",
    "    <ipython-input-2-e74c8796a0b9> in <module>\n",
    "    ----> 1 print(\"Today's date is: \" + date.today())\n",
    "\n",
    "    TypeError: can only concatenate str (not \"datetime.date\") to str\n",
    "\n",
    "La última fila del mensaje le indica cuál es el problema. Está intentando usar el operador + y combinar dos tipos de datos diferentes, una cadena y una fecha.\n",
    "\n",
    "Para que este código funcione, debe convertir la fecha en una cadena. Para lograr tal conversión mediante el uso de la función de utilidad: str()\n",
    "\n",
    "    print(\"Today's date is: \" + str(date.today()))"
   ]
  },
  {
   "cell_type": "code",
   "execution_count": 7,
   "metadata": {},
   "outputs": [
    {
     "name": "stdout",
     "output_type": "stream",
     "text": [
      "Today's date is: 2022-02-09\n"
     ]
    }
   ],
   "source": [
    "# Tu turno ejecuta el siguiente comando: print(\"Today's date is: \" + str(date.today()))\n",
    "print(\"Today's date is: \" + str(date.today()))"
   ]
  },
  {
   "cell_type": "markdown",
   "metadata": {},
   "source": [
    "### Recopilar información\n",
    "\n",
    "Hasta ahora, has aprendido varias construcciones del lenguaje de programación Python. También has escrito un par de programas. Sin embargo, los programas operan con datos, y esos datos provienen de alguna parte. En esta unidad, analizará más de cerca cómo puede recopilar la entrada tanto de la línea de comandos como de la entrada del usuario.\n",
    "\n",
    "### Entrada del usuario\n",
    "\n",
    "Puede codificarlo para que el programa le diga al usuario que ingrese información. Guarde los datos introducidos en el programa y, a continuación, actúe en consecuencia.\n",
    "\n",
    "Para capturar información del usuario, utilice la función. Aquí hay un ejemplo: input()\n",
    "\n",
    "    print(\"Bienvenido al programa de bienvenida\")\n",
    "    name = input(\"Introduzca su nombre \")\n",
    "    print(\"Saludos: \" + name)"
   ]
  },
  {
   "cell_type": "code",
   "execution_count": 3,
   "metadata": {},
   "outputs": [
    {
     "name": "stdout",
     "output_type": "stream",
     "text": [
      "Welcome traveler\n",
      "greetings: Luis\n"
     ]
    }
   ],
   "source": [
    "# Escribe tu código aquí\n",
    "print(\"Welcome traveler\")\n",
    "name = input(\"tell us your name \")\n",
    "print(\"greetings: \" + name)"
   ]
  },
  {
   "cell_type": "markdown",
   "metadata": {},
   "source": [
    "La ejecución del programa mediante el uso da el siguiente resultado python input.py (Si lo haces por consola):\n",
    "\n",
    "    Bienvenido al programa de bienvenida\n",
    "    Enter your name Fernanda\n",
    "    Saludos: Fernanda\n",
    "\n",
    "### Trabajar con números\n",
    "\n",
    "La función almacena un resultado como una cadena. Por lo tanto, es posible que el siguiente código no haga lo que desea que haga: input()\n",
    "\n",
    "    print(\"Calculadora\")\n",
    "    first_number = input(\"Primer número: \")\n",
    "    second_number = input(\"Segundo número: \")\n",
    "    print(first_number + second_number)"
   ]
  },
  {
   "cell_type": "code",
   "execution_count": 6,
   "metadata": {},
   "outputs": [
    {
     "name": "stdout",
     "output_type": "stream",
     "text": [
      "Calculadora\n",
      "34\n"
     ]
    }
   ],
   "source": [
    "# Escribe tu código aquí\n",
    "print(\"Calculadora\")\n",
    "first_number = input(\"Primer número: \")\n",
    "second_number = input(\"Segundo número: \")\n",
    "print(first_number + second_number)"
   ]
  },
  {
   "cell_type": "markdown",
   "metadata": {},
   "source": [
    "La ejecución de este programa mediante el uso da el siguiente resultado: python calc.py (Si lo haces por consola)\n",
    "\n",
    "    Calculadora\n",
    "    Primer número: 3\n",
    "    Segundo número: 4\n",
    "    34\n",
    "\n",
    "Probablemente quieres que este programa te responda con 7 en lugar de 34. Entonces, ¿qué salió mal?\n",
    "\n",
    "La explicación es que el programa toma ambos números como si fuesen 'cadenas de texto'. Para que el cálculo funcione correctamente, debe cambiar esas cadenas a números mediante la función int(). Modificando la última línea del programa a utilizar, puede resolver el problema:\n",
    "\n",
    "    print(int(first_number) + int(second_number))"
   ]
  },
  {
   "cell_type": "code",
   "execution_count": 7,
   "metadata": {},
   "outputs": [
    {
     "name": "stdout",
     "output_type": "stream",
     "text": [
      "7\n"
     ]
    }
   ],
   "source": [
    "print(int(first_number) + int(second_number))"
   ]
  },
  {
   "cell_type": "markdown",
   "metadata": {},
   "source": [
    "La repetición del programa ahora se produce 7 como respuesta."
   ]
  }
 ],
 "metadata": {
  "interpreter": {
   "hash": "38740d3277777e2cd7c6c2cc9d8addf5118fdf3f82b1b39231fd12aeac8aee8b"
  },
  "kernelspec": {
   "display_name": "Python 3.10.2 64-bit",
   "language": "python",
   "name": "python3"
  },
  "language_info": {
   "codemirror_mode": {
    "name": "ipython",
    "version": 3
   },
   "file_extension": ".py",
   "mimetype": "text/x-python",
   "name": "python",
   "nbconvert_exporter": "python",
   "pygments_lexer": "ipython3",
   "version": "3.10.2"
  },
  "orig_nbformat": 4
 },
 "nbformat": 4,
 "nbformat_minor": 2
}
