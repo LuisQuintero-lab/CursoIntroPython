{
 "cells": [
  {
   "cell_type": "markdown",
   "metadata": {},
   "source": [
    "# Ejercicio - Escribir declaraciones ``if``, ``else``, y ``elif``\n",
    "\n",
    "Las instrucciones ``if`` te permiten ejecutar condicionalmente código Python. Se usan comúnmente en Python para \"tomar decisiones\" sobre lo que debería suceder a continuación mientras se ejecuta un programa.\n",
    "\n",
    "Para crear una instrucción ``if`` en Python, define una expresión de prueba que pueda tener un valor ``True`` o ``False``, seguido de un bloque de código con sangría que se ejecutará si se cumple la condición.\n",
    "\n",
    "```\n",
    "if expresion_prueba:\n",
    "    # intrucción(es) a ejecutar\n",
    "```\n",
    "\n",
    "Para escribir un programa con una lógica condicional más compleja, puedes agregar instrucciones ``else`` y ``elif`` al bloque de código. También puedes anidar instrucciones condicionales.\n",
    "\n",
    "```\n",
    "if expresion_prueba:\n",
    "    # intrucción(es) a ejecutar\n",
    "    if expresion_prueba:\n",
    "        # intrucción(es) a ejecutar\n",
    "    else: \n",
    "        # intrucción(es) a ejecutar\n",
    "elif expresion_prueba:\n",
    "    # intrucción(es) a ejecutar\n",
    "else:\n",
    "    # intrucción(es) a ejecutar\n",
    "```\n",
    "\n",
    "> **TIP** Dedica unos minutos a tratar de encontrar una solución. Luego desplázate hacia abajo hasta la parte inferior para ver si has logrado compilar el programa de acuerdo con las especificaciones.\n",
    "\n",
    "Para este ejercicio, escribirás una lógica condicional que imprima una advertencia si un asteroide se acerca a la Tierra demasiado rápido. La velocidad del asteroide varía dependiendo de lo cerca que esté del sol, y cualquier velocidad superior a 25 kilómetros por segundo (km/s) merece una advertencia.\n",
    "\n",
    "Un asteroide se acerca, y viaja a una velocidad de 49 km/s."
   ]
  },
  {
   "cell_type": "code",
   "execution_count": 7,
   "metadata": {},
   "outputs": [
    {
     "name": "stdout",
     "output_type": "stream",
     "text": [
      "¡Warning an asteroid near to Earth is traveling at 49km/s !\n"
     ]
    }
   ],
   "source": [
    "# Añadir el código necesario para crear una variable que guarde la velocidad del asteroide.\n",
    "# Escribe una expresión de prueba para calcular si necesita una advertencia.\n",
    "# Agregue las instrucciones que se ejecutarán si la expresión de prueba es true o false.\n",
    "asteroid_speed = 49\n",
    "safe_limit = 25\n",
    "\n",
    "if asteroid_speed >= safe_limit:\n",
    "    print(\"¡Warning an asteroid near to Earth is traveling at \"+str(asteroid_speed)+\"km/s !\")\n",
    "else:\n",
    "        print(\":)\")\n"
   ]
  },
  {
   "cell_type": "markdown",
   "metadata": {},
   "source": [
    "Si un asteroide entra en la atmósfera de la Tierra a una velocidad mayor o igual a 20 km/s, a veces produce un rayo de luz que se puede ver desde la Tierra. Escribe la lógica condicional que usa declaraciones if, else, y elif para alertar a las personas de todo el mundo que deben buscar un asteroide en el cielo. ¡Hay uno que se dirige a la tierra ahora a una velocidad de 19 km/s!"
   ]
  },
  {
   "cell_type": "code",
   "execution_count": 26,
   "metadata": {},
   "outputs": [
    {
     "name": "stdout",
     "output_type": "stream",
     "text": [
      "We're fine 👌\n"
     ]
    }
   ],
   "source": [
    "# Agrega el código para crear una variable para un asteroide que viaja a 19 km/s\n",
    "# Escribe varias expresiones de prueba para determinar si puedes ver el rayo de luz desde la tierra\n",
    "# Agrega las instrucciones que se ejecutarán si las expresiones de prueba son True o False\n",
    "asteroid_speed = 19\n",
    "shooting_star_alert = 20\n",
    "safe_limit = 30\n",
    "is_on_the_atmosphere = True\n",
    "\n",
    "if is_on_the_atmosphere:\n",
    "    if asteroid_speed > safe_limit:\n",
    "        print(\"¡Warning an asteroid near to Earth is traveling at \"+str(asteroid_speed)+\"km/s !\")\n",
    "    elif asteroid_speed >= shooting_star_alert:\n",
    "        print(\"Pay attention there is something beautiful in the sky look carefully and you will find it 🌠\")\n",
    "    else:\n",
    "        print(\":)\")\n",
    "else:\n",
    "    print(\"We're fine 👌\")"
   ]
  },
  {
   "cell_type": "markdown",
   "metadata": {},
   "source": [
    "# Ejercicio: Uso de operadores and y or\n",
    "\n",
    "En el ejercicio anterior, trabajó con sentencias ``if``, ``else``, y ``elif`` para escribir programas con lógica condicional compleja. Para crear expresiones booleanas aún más interesantes, puede usar los operadores ``and`` y ``or`` en Python.\n",
    "\n",
    "Las expresiones and son sólo si ambas subexpresiones son verdaderas.\n",
    "\n",
    "```\n",
    "expresión1 and expresión2\n",
    "```\n",
    "\n",
    "Las expresiones ``or`` son ``True`` si al menos una subexpresión es verdadera.\n",
    "\n",
    "```\n",
    "expresión1 or expresión2\n",
    "```\n",
    "\n",
    "En este ejercicio, aprenderás información más matizada sobre cuándo los asteroides representan un peligro para la Tierra, y utilizarás esa información para mejorar nuestro sistema de advertencia. Aquí está la nueva información que necesitas saber:\n",
    "\n",
    "* Los asteroides de menos de 25 metros en su dimensión más grande probablemente se quemarán a medida que entren en la atmósfera de la Tierra.\n",
    "\n",
    "* Si una pieza de un asteroide que es más grande que 25 metros pero más pequeña que 1000 metros golpeara la Tierra, causaría mucho daño.\n",
    "\n",
    "También discutimos en el ejercicio anterior que:\n",
    "\n",
    "* La velocidad del asteroide varía en función de lo cerca que esté del sol, y cualquier velocidad superior a 25 kilómetros por segundo (km/s) merece una advertencia.\n",
    "\n",
    "* Si un asteroide entra en la atmósfera de la Tierra a una velocidad mayor o igual a 20 km/s, a veces produce un rayo de luz que se puede ver desde la Tierra.\n",
    "\n",
    "Usando toda esta información, escribe un programa que emita la advertencia o información correcta a la gente de la Tierra, según la velocidad y el tamaño de un asteroide. Utiliza instrucciones ``if``, ``else``, y ``elif``, así como los operadores ``and`` y ``or``."
   ]
  },
  {
   "cell_type": "code",
   "execution_count": 57,
   "metadata": {},
   "outputs": [
    {
     "name": "stdout",
     "output_type": "stream",
     "text": [
      "Pay attention there is something beautiful in the sky look carefully and you will find it 🌠\n"
     ]
    }
   ],
   "source": [
    "# Agrega el código para crear nuevas variables para la velocidad y el tamaño del asteroide\n",
    "# Para probar el código, prueba con varias velocidades y tamaños\n",
    "# Escribe varias expresiones de prueba o combinaciones de expresiones de prueba para determinar qué mensaje se debe enviar a Tierra.\n",
    "asteroid_size = 5\n",
    "asteroid_speed = 20\n",
    "is_on_the_atmosphere = True\n",
    "\n",
    "shooting_star_alert = 20\n",
    "safe_size_limit = 25\n",
    "safe_speed_limit = 25\n",
    "deadly_size = 1000\n",
    "deadly_speed = 1000\n",
    "\n",
    "if asteroid_size > deadly_size or asteroid_speed > deadly_speed:\n",
    "        print(\"Definetily we're not fine 🤙😔\")\n",
    "elif asteroid_speed > safe_speed_limit or asteroid_size > safe_size_limit:\n",
    "        if asteroid_speed > safe_speed_limit and asteroid_size <= safe_size_limit:\n",
    "                print(\"¡Warning an asteroid near to Earth is traveling at \"+str(asteroid_speed)+\"km/s !\")\n",
    "        elif asteroid_size > safe_size_limit and asteroid_speed <= safe_speed_limit:\n",
    "                print(\"¡Warning an asteroid near to Earth is too big with a \"+str(asteroid_size)+\" meter in diameter!\")\n",
    "        else:\n",
    "                print(\"¡Alert an asteroid near to Earth is traveling at \"+str(asteroid_speed)+\"km/s and it size is \"+str(asteroid_size_mts)+\" meters in diameter!\")\n",
    "elif asteroid_speed >= shooting_star_alert and is_on_the_atmosphere:\n",
    "         print(\"Pay attention there is something beautiful in the sky look carefully and you will find it 🌠\")\n",
    "else:\n",
    "    print(\"We're fine 👌\")"
   ]
  }
 ],
 "metadata": {
  "interpreter": {
   "hash": "38740d3277777e2cd7c6c2cc9d8addf5118fdf3f82b1b39231fd12aeac8aee8b"
  },
  "kernelspec": {
   "display_name": "Python 3.10.2 64-bit",
   "language": "python",
   "name": "python3"
  },
  "language_info": {
   "codemirror_mode": {
    "name": "ipython",
    "version": 3
   },
   "file_extension": ".py",
   "mimetype": "text/x-python",
   "name": "python",
   "nbconvert_exporter": "python",
   "pygments_lexer": "ipython3",
   "version": "3.10.2"
  },
  "orig_nbformat": 4
 },
 "nbformat": 4,
 "nbformat_minor": 2
}
