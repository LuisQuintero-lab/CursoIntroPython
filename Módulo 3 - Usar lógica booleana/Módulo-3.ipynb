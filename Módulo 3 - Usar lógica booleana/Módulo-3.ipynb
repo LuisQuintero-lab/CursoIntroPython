{
 "cells": [
  {
   "cell_type": "markdown",
   "metadata": {},
   "source": [
    "# Logica booleana\n",
    "\n",
    "Los booleanos son un tipo común en Python. Su valor solo puede ser una de dos cosas: verdadero o falso. Comprender cómo usar los valores booleanos es fundamental, ya que los necesitarás para escribir lógica condicional.\n",
    "\n",
    "### Expresiones de prueba\n",
    "\n",
    "Debes usar una instrucción if para ejecutar código solo si se cumple una determinada condición. Lo primero que se hace cuando se escribe una instrucción if es comprobar la condición mediante una expresión de prueba. A continuación, determins si la instrucción evalúa a True (Verdadero) o False (Falso) . Si es True (Verdadero), se ejecuta el siguiente bloque de código con sangría:\n",
    "\n",
    "*Tip de practica 1: Intenta ejecutarlo en un notebook.*"
   ]
  },
  {
   "cell_type": "code",
   "execution_count": 1,
   "metadata": {},
   "outputs": [],
   "source": [
    "a=97\n",
    "b=55\n",
    "#test expression\n",
    "if a < b:\n",
    "    #statement to be run\n",
    "    print(b)"
   ]
  },
  {
   "cell_type": "markdown",
   "metadata": {},
   "source": [
    "### Escribir delaraciones IF\n",
    "\n",
    "Utiliza una instrucción if si deseas ejecutar código sólo si se cumple una determinada condición. La sintaxis de una instrucción if es siempre:"
   ]
  },
  {
   "cell_type": "code",
   "execution_count": null,
   "metadata": {},
   "outputs": [],
   "source": [
    "if expresion_prueba:\n",
    "    #instrucciones a ejecutar"
   ]
  },
  {
   "cell_type": "markdown",
   "metadata": {},
   "source": [
    "Por ejemplo:\n",
    "\n",
    "*Tip de práctica 2: Antes de ejecutarlo en un notebook, intenta deducir cuál será el resultado y compruébalo*"
   ]
  },
  {
   "cell_type": "code",
   "execution_count": 2,
   "metadata": {},
   "outputs": [
    {
     "name": "stdout",
     "output_type": "stream",
     "text": [
      "93\n"
     ]
    }
   ],
   "source": [
    "# Aplica el tip de practica 1.\n",
    "a = 93\n",
    "b = 27\n",
    "if a >= b:\n",
    "    print(a)"
   ]
  },
  {
   "cell_type": "markdown",
   "metadata": {},
   "source": [
    "El fragmento anterior se lee de la siguiente manera (linea por linea):\n",
    "```\n",
    "A la letra 'a' le asigno el valor de 93.\n",
    "A la letra 'b' le asigno el valor de 27.\n",
    "SI a(93) es mayor o igual a b(27) entonces:\n",
    "Muestra (print) el valor de a(93)\n",
    "```\n",
    "\n",
    "Estamos aprendioendo a leer el codigo de una forma mas sencilla.\n",
    "\n",
    "En Python, el cuerpo de la instruccion ``if`` debe tener sangria. Siempre se ejecutara cualquier codigo que siga a una expresion de prueba que no tenga sangria:\n",
    "\n",
    "*Tips de practica 1 y 2*"
   ]
  },
  {
   "cell_type": "code",
   "execution_count": 4,
   "metadata": {},
   "outputs": [
    {
     "name": "stdout",
     "output_type": "stream",
     "text": [
      "-1\n",
      "44\n"
     ]
    }
   ],
   "source": [
    "a = 24\n",
    "b = 44\n",
    "if a <= 0:\n",
    "    print(a)\n",
    "print(b)"
   ]
  },
  {
   "cell_type": "markdown",
   "metadata": {},
   "source": [
    "En este ejemplo, el ``44`` como resultado se debe a que la expresión de prueba es ``False`` y la instrucción ``print(b)`` no tiene sangría en el mismo nivel que la instrucción ``if``.\n",
    "\n",
    "### ¿Qué son las declaraciones \"else\" y \"elif\"?\n",
    "\n",
    "¿Qué sucede si también deseas que tu programa ejecute una pieza de código cuando tu expresión de prueba es ``False``? ¿O qué pasa si deseas incluir otra expresión de prueba?.\n",
    "\n",
    "Python tiene otras palabras clave que puedes usar para hacer declaraciones ``if`` más complejas, ``else`` y ``elif`` . Cuando se utiliza if, else, y elif en combinación, se pueden escribir programas complejos con varias expresiones de prueba y sentencias para ejecutar.\n",
    "\n",
    "### Trabajando con else\n",
    "\n",
    "Cuando utilizas una instrucción, el cuerpo del programa sólo se ejecutará si la expresión de prueba es ``True``. Para agregar más código que se ejecutará cuando la expresión de prueba sea ``False``, debes agregar una instrucción ``else``.\n",
    "\n",
    "Volvamos al ejemplo de la sección anterior:"
   ]
  },
  {
   "cell_type": "code",
   "execution_count": 5,
   "metadata": {},
   "outputs": [
    {
     "name": "stdout",
     "output_type": "stream",
     "text": [
      "93\n"
     ]
    }
   ],
   "source": [
    "a = 93\n",
    "b = 27\n",
    "if a >= b:\n",
    "    print(a)"
   ]
  },
  {
   "cell_type": "markdown",
   "metadata": {},
   "source": [
    "En este ejemplo, si ``a`` no es mayor o igual que ``b``, no pasa nada. Supongamos que desea imprimir ``b`` si la expresión de prueba es ``False``:"
   ]
  },
  {
   "cell_type": "code",
   "execution_count": 7,
   "metadata": {},
   "outputs": [
    {
     "name": "stdout",
     "output_type": "stream",
     "text": [
      "127\n"
     ]
    }
   ],
   "source": [
    "a = 93\n",
    "b = 127\n",
    "if a >= b:\n",
    "    print(a)\n",
    "else:\n",
    "    print(b)"
   ]
  },
  {
   "cell_type": "markdown",
   "metadata": {},
   "source": [
    "Si la expresión de prueba es ``False``, se omite el código del cuerpo de la instrucción ``if`` y el programa continúa ejecutándose desde la instrucción ``else``. La sintaxis de una instrucción ``if/else`` es siempre:\n",
    "\n",
    "```\n",
    "if expresion_prrueba:\n",
    "    # instrucciones a ejecutar\n",
    "else:\n",
    "    # instrucciones a ejecutar\n",
    "```\n",
    "\n",
    "### Trabajando con elif\n",
    "\n",
    "En Python, la palabra clave ``elif`` es la abreviatura de *else if*. El uso de instrucciones ``elif`` te permite agregar varias expresiones de prueba al programa. Estas instrucciones se ejecutan en el orden en que están escritas, por lo que el programa ingresará una instrucción ``elif`` solo si la primera instrucción ``if`` es ``False`` . Por ejemplo:"
   ]
  },
  {
   "cell_type": "code",
   "execution_count": 18,
   "metadata": {},
   "outputs": [
    {
     "name": "stdout",
     "output_type": "stream",
     "text": [
      "a es mayor\n"
     ]
    }
   ],
   "source": [
    "a = 93\n",
    "b = 27\n",
    "if a > b:\n",
    "    print(\"a es mayor\")\n",
    "elif a == b:\n",
    "    print(\"a es igual que b\")"
   ]
  },
  {
   "cell_type": "markdown",
   "metadata": {},
   "source": [
    "La instrucción ``elif`` de este bloque de código no se ejecutará, porque la instrucción ``if`` es ``True``.\n",
    "\n",
    "La sintaxis de una instrucción ``if/elif`` es:\n",
    "\n",
    "```\n",
    "if expresion_prueba:\n",
    "    # instrucción(es) a ejecutar\n",
    "elif expresion_prueba:\n",
    "    # instrucción(es) a ejecutar\n",
    "```\n",
    "\n",
    "### Combinar declaraciones ``if ``, ``elif``, y ``else``\n",
    "\n",
    "Puedes combinar sentencias ``if ``, ``elif``, y ``else`` para crear programas con lógica condicional compleja. Recuerda que una instrucción ``elif`` sólo se ejecuta cuando la condición ``if `` es ``False``. También ten en cuenta que un bloque ``if `` puede tener solo un bloque ``else``, pero puede tener varios bloques ``elif``.\n",
    "\n",
    "Veamos el ejemplo de nuevo con una declaración ``elif`` añadida:"
   ]
  },
  {
   "cell_type": "code",
   "execution_count": 21,
   "metadata": {},
   "outputs": [
    {
     "name": "stdout",
     "output_type": "stream",
     "text": [
      "a es igual que b\n"
     ]
    }
   ],
   "source": [
    "a = 93\n",
    "b = 27\n",
    "if a > b:\n",
    "    print(\"a es mayor que b\")\n",
    "elif a < b:\n",
    "    print(\"a es menor que b\")\n",
    "else: \n",
    "    print (\"a es igual que b\")"
   ]
  },
  {
   "cell_type": "markdown",
   "metadata": {},
   "source": [
    "Un bloque de código que utiliza los tres tipos de instrucciones tiene la sintaxis siguiente:\n",
    "\n",
    "```\n",
    "if expresion_prueba:\n",
    "    # instrucción(es) a ejecutar\n",
    "elif expresion_prueba:\n",
    "    # instrucción(es) a ejecutar\n",
    "elif expresion_prueba:\n",
    "    # instrucción(es) a ejecutar\n",
    "else:\n",
    "    # instrucción(es) a ejecutar\n",
    "```\n",
    "\n",
    "### Trabajar con lógica condicional anidada\n",
    "\n",
    "Python también admite lógica condicional anidada, lo que significa que puedes anidar sentencias ``if ``, ``elif``, y ``else``, para crear programas aún más complejos. Para anidar condiciones, indenta las condiciones internas y todo lo que esté en el mismo nivel de sangría se ejecutará en el mismo bloque de código:"
   ]
  },
  {
   "cell_type": "code",
   "execution_count": 24,
   "metadata": {},
   "outputs": [
    {
     "name": "stdout",
     "output_type": "stream",
     "text": [
      "a es mayor que b y b es menor que c\n"
     ]
    }
   ],
   "source": [
    "a = 16\n",
    "b = 25\n",
    "c = 27\n",
    "if a > b:\n",
    "    if b > c:\n",
    "        print (\"a es mayor que b y b es mayor que c\")\n",
    "    else: \n",
    "        print (\"a es mayor que b y b es menor que c\")\n",
    "elif a == b:\n",
    "    print (\"a es igual que b\")\n",
    "else:\n",
    "    print (\"a es menor que b\")"
   ]
  },
  {
   "cell_type": "markdown",
   "metadata": {},
   "source": [
    "Este fragmento de código produce la salida ```\"a es menor que b\"```.\n",
    "\n",
    "La lógica condicional anidada sigue las mismas reglas que la lógica condicional normal dentro de cada bloque de código. Aquí hay un ejemplo de la sintaxis:\n",
    "\n",
    "```\n",
    "if expresion_prueba:\n",
    "    # instrucción(es) a ejecutar\n",
    "    if expresion_prueba:\n",
    "        # instrucción(es) a ejecutar\n",
    "    else: \n",
    "        # instrucción(es) a ejecutar\n",
    "elif expresion_prueba:\n",
    "    # instrucción(es) a ejecutar\n",
    "    if expresion_prueba:\n",
    "        # instrucción(es) a ejecutar\n",
    "    else: \n",
    "        # instrucción(es) a ejecutar\n",
    "else:\n",
    "    # instrucción(es) a ejecutar\n",
    "```\n",
    "\n",
    "### ¿Qué son los operadores 'and' y 'or'?\n",
    "\n",
    "Es posible que ocasionalmente desees combinar expresiones de prueba para evaluar varias condiciones ``if ``, ``elif``, y ``else`` en una instrucción. Para ello, utilizaremos los operadores booleanos ``and`` y ``or``.\n",
    "\n",
    "#### El operador ``or``\n",
    "\n",
    "Puede conectar dos expresiones booleanas o de prueba mediante el operador booleano ``or``. Para que toda la expresión se evalúe en ``True``, al menos una de las subexpresiones debe ser verdadera. Si ninguna de las subexpresiones es verdadera, toda la expresión se evalúa en ``False``. Por ejemplo, en la siguiente expresión, toda la expresión de prueba se evalúa en ``True``, porque se ha cumplido una de las condiciones de las subexpresiones:\n"
   ]
  },
  {
   "cell_type": "code",
   "execution_count": 25,
   "metadata": {},
   "outputs": [
    {
     "name": "stdout",
     "output_type": "stream",
     "text": [
      "57\n"
     ]
    }
   ],
   "source": [
    "a = 23\n",
    "b = 34\n",
    "if a == 34 or b == 34:\n",
    "    print(a + b)"
   ]
  },
  {
   "cell_type": "markdown",
   "metadata": {},
   "source": [
    "Si ambas subexpresiones son verdaderas, toda la expresión de prueba también evalúa a ``True``.\n",
    "\n",
    "Una expresión booleana que utiliza  ``or`` tiene la sintaxis siguiente:\n",
    "```\n",
    "subexpresión1 or subexpresión2\n",
    "```\n",
    "\n",
    "#### El operador ``and``\n",
    "\n",
    "También puedes conectar dos expresiones de prueba mediante el operador booleano ``and``. \n",
    "\n",
    "Ambas condiciones de la expresión de prueba deben ser verdaderas para que toda la expresión de prueba se evalúe en ``True``. En cualquier otro caso, la expresión de prueba es ``False``. En el ejemplo siguiente, toda la expresión de prueba se evalúa en ``False``, porque sólo una de las condiciones de las subexpresiones es ``True``:\n"
   ]
  },
  {
   "cell_type": "code",
   "execution_count": 26,
   "metadata": {},
   "outputs": [],
   "source": [
    "a = 23\n",
    "b = 34\n",
    "if a == 34 and b == 34:\n",
    "    print (a + b)"
   ]
  },
  {
   "cell_type": "markdown",
   "metadata": {},
   "source": [
    "Una expresión booleana que utiliza ``and`` tiene la sintaxis siguiente:\n",
    "\n",
    "```\n",
    "subexpresión1 and subexpresión2\n",
    "```\n",
    "\n",
    "#### La diferencia entre ``and`` y ``or``\n",
    "\n",
    "Para resaltar la diferencia entre los dos operadores booleanos, puedes utilizar una tabla de verdad. Una tabla de verdad muestra a qué se evalúa toda la expresión de prueba en función de las dos subexpresiones.\n",
    "\n",
    "Aquí está la tabla de la verdad para: ``and`` \n",
    "\n",
    "subexpresión1 | Operador | subexpresión2 |\tResultado\n",
    "-------- | -------- | -------- | --------\n",
    "``True`` | ``and`` | ``True`` | ``True``\n",
    "``True`` | ``and`` | ``False`` | ``False``\n",
    "``False`` | ``and`` | ``True`` | ``False``\n",
    "``False`` | ``and`` | ``False`` | ``False``\n",
    "\n",
    "Aquí está la tabla de la verdad para: ``or`` \n",
    "\n",
    "subexpresión1 | Operador | subexpresión2 |\tResultado\n",
    "-------- | -------- | -------- | --------\n",
    "``True`` | ``or`` | ``True`` | ``True``\n",
    "``True`` | ``or`` | ``False`` | ``True``\n",
    "``False`` | ``or`` | ``True`` | ``True``\n",
    "``False`` | ``or`` | ``False`` | ``False``"
   ]
  }
 ],
 "metadata": {
  "interpreter": {
   "hash": "38740d3277777e2cd7c6c2cc9d8addf5118fdf3f82b1b39231fd12aeac8aee8b"
  },
  "kernelspec": {
   "display_name": "Python 3.10.2 64-bit",
   "language": "python",
   "name": "python3"
  },
  "language_info": {
   "codemirror_mode": {
    "name": "ipython",
    "version": 3
   },
   "file_extension": ".py",
   "mimetype": "text/x-python",
   "name": "python",
   "nbconvert_exporter": "python",
   "pygments_lexer": "ipython3",
   "version": "3.10.2"
  },
  "orig_nbformat": 4
 },
 "nbformat": 4,
 "nbformat_minor": 2
}
