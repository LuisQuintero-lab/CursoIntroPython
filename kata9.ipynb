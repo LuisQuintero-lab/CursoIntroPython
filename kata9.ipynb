{
  "cells": [
    {
      "cell_type": "markdown",
      "metadata": {},
      "source": [
        "# Ejercicio: Uso de funciones en Python"
      ]
    },
    {
      "cell_type": "markdown",
      "metadata": {},
      "source": [
        "### Ejercicio 1: Trabajar con argumentos en funciones\n",
        "\n",
        "Los argumentos requeridos en las funciones se utilizan cuando las funciones necesitan que esos argumentos funcionen correctamente. En este ejercicio, construirás un informe de combustible que requiere información de varias ubicaciones de combustible en todo el cohete.\n",
        "\n"
      ]
    },
    {
      "cell_type": "markdown",
      "metadata": {},
      "source": [
        "> **TIP**\n",
        "> Dedica unos minutos para tratar de encontrar una solución. Luego desplázate hacia abajo hasta la parte inferior para ver si has logrado compilar el programa de acuerdo con las especificaciones\n",
        "\n",
        "Comienza por crear una función que necesite tres lecturas de combustible y devuelva un informe:"
      ]
    },
    {
      "cell_type": "code",
      "execution_count": 48,
      "metadata": {},
      "outputs": [],
      "source": [
        "# Función para leer 3 tanques de combustible y muestre el promedio\n",
        "def calculate_fuel(fuel_tank1,fuel_tank2,fuel_tank3):\n",
        "    metrics = [fuel_tank1, fuel_tank2, fuel_tank3]\n",
        "    average_fuel=0\n",
        "    for percentage in metrics:\n",
        "        average_fuel = average_fuel + percentage\n",
        "    average_fuel = average_fuel/len(metrics)\n",
        "    print(\"\"\"Fuel metrics\n",
        "    We have {}% of fuel left\n",
        "    {}% in tank 1\n",
        "    {}% in tank 2\n",
        "    {}% in tank 3\n",
        "    \"\"\".format(average_fuel, fuel_tank1, fuel_tank2, fuel_tank3))\n"
      ]
    },
    {
      "cell_type": "markdown",
      "metadata": {},
      "source": [
        "Ahora que hemos definido la función de informes, vamos a comprobarlo. Para esta misión, los tanques no están llenos:"
      ]
    },
    {
      "cell_type": "code",
      "execution_count": 49,
      "metadata": {},
      "outputs": [
        {
          "name": "stdout",
          "output_type": "stream",
          "text": [
            "Fuel metrics\n",
            "    We have 0.0% of fuel left\n",
            "    0% in tank 1\n",
            "    0% in tank 2\n",
            "    0% in tank 3\n",
            "    \n"
          ]
        }
      ],
      "source": [
        "\n",
        "# Llamamos a la función que genera el reporte print(funcion(tanque1, tanque2, tanque3))\n",
        "calculate_fuel(0,0,0)"
      ]
    },
    {
      "cell_type": "markdown",
      "metadata": {},
      "source": [
        "En lugar de simplemente crear el informe, la función también está calculando el promedio. Mejora la legibilidad extrayendo el cálculo promedio de la función en una nueva función para que el promedio se pueda hacer de forma independiente:"
      ]
    },
    {
      "cell_type": "code",
      "execution_count": 50,
      "metadata": {},
      "outputs": [],
      "source": [
        "# Función promedio \n",
        "def promediate(metrics):\n",
        "    average_fuel=0\n",
        "    for percentage in metrics:\n",
        "        average_fuel = average_fuel + percentage\n",
        "    average_fuel = average_fuel/len(metrics)\n",
        "    return average_fuel\n"
      ]
    },
    {
      "cell_type": "markdown",
      "metadata": {},
      "source": [
        "Ahora actualiza la función de informes para llamando a la nueva función del promedio:\n"
      ]
    },
    {
      "cell_type": "code",
      "execution_count": 51,
      "metadata": {},
      "outputs": [
        {
          "name": "stdout",
          "output_type": "stream",
          "text": [
            "Fuel metrics\n",
            "    We have 20.0% of fuel left\n",
            "    5% in tank 1\n",
            "    35% in tank 2\n",
            "    20% in tank 3\n",
            "    \n"
          ]
        }
      ],
      "source": [
        "# Actualiza la función\n",
        "def calculate_fuel(fuel_tank1,fuel_tank2,fuel_tank3):\n",
        "    metrics = [fuel_tank1, fuel_tank2, fuel_tank3]\n",
        "    average_fuel = promediate(metrics)\n",
        "    print(\"\"\"Fuel metrics\n",
        "    We have {}% of fuel left\n",
        "    {}% in tank 1\n",
        "    {}% in tank 2\n",
        "    {}% in tank 3\n",
        "    \"\"\".format(average_fuel, fuel_tank1, fuel_tank2, fuel_tank3))\n",
        "\n",
        "calculate_fuel(5,35,20)"
      ]
    },
    {
      "cell_type": "markdown",
      "metadata": {},
      "source": [
        "> Recuerda: Lo importante es intentarlo, puedes auxiliarte de internet, libros, etc. El objetivo de una kata es la comprobación de la comprensión de la lección y su aplicación inmediata a la resolución de problemas. Go for it!"
      ]
    },
    {
      "cell_type": "markdown",
      "metadata": {},
      "source": [
        "## Ejercicio 2: Trabajo con argumentos de palabra clave"
      ]
    },
    {
      "cell_type": "markdown",
      "metadata": {},
      "source": [
        "### Ejercicio : Trabajar con argumentos de palabras clave en funciones\n",
        "En este ejercicio, construirás un informe de cohete que requiere varias piezas de información, como el tiempo hasta el destino, el combustible a la izquierda y el nombre del destino. Comienza por crear una función que creará un informe preciso de la misión:"
      ]
    },
    {
      "cell_type": "code",
      "execution_count": 52,
      "metadata": {},
      "outputs": [
        {
          "name": "stdout",
          "output_type": "stream",
          "text": [
            "\" Travel Details\n",
            "    Destination Jupiter\n",
            "    Preparation time 40 minutes\n",
            "    Total flight time 190 minutes\n",
            "    Total fuel left 14000\n",
            "    \n"
          ]
        }
      ],
      "source": [
        "# Función con un informe preciso de la misión. Considera hora de prelanzamiento, tiempo de vuelo, destino, tanque externo y tanque interno\n",
        "def detailed_report(pre_launch_time, flight_time, destination, outer_tank, inner_tank):\n",
        "    print(\"\"\"\" Travel Details\n",
        "    Destination {}\n",
        "    Preparation time {} minutes\n",
        "    Total flight time {} minutes\n",
        "    Total fuel left {}\n",
        "    \"\"\".format(destination, pre_launch_time, flight_time+pre_launch_time, outer_tank+inner_tank))\n",
        "\n",
        "detailed_report(40, 150,'Jupiter', 10000, 4000)"
      ]
    },
    {
      "cell_type": "markdown",
      "metadata": {},
      "source": [
        "La función es problemática porque no se puede adaptar para minutos adicionales o tanques adicionales de combustible. Hazlo más flexible permitiendo cualquier número de pasos basados en el tiempo y cualquier número de tanques. En lugar de usar `*args` y `**kwargs`, aprovecha el hecho de que puedes usar cualquier nombre que desees. Asegurate que la función sea más legible mediante el uso de nombres de variables que están asociados con las entradas, como `*minutes` y `**fuel_reservoirs`:"
      ]
    },
    {
      "cell_type": "code",
      "execution_count": 53,
      "metadata": {},
      "outputs": [
        {
          "name": "stdout",
          "output_type": "stream",
          "text": [
            "\" Travel Details\n",
            "    Destination Jupiter\n",
            "    Total flight time 190 minutes\n",
            "    Total fuel left 14000 liters\n",
            "    \n"
          ]
        }
      ],
      "source": [
        "# Escribe tu nueva función de reporte considerando lo anterior\n",
        "def detailed_report(destination, *minutes, **fuel_reservoirs):\n",
        "    print(\"\"\"\" Travel Details\n",
        "    Destination {}\n",
        "    Total flight time {} minutes\n",
        "    Total fuel left {} liters\n",
        "    \"\"\".format(destination, sum(minutes), sum(fuel_reservoirs.values())))\n",
        "\n",
        "detailed_report('Jupiter', 40, 150, outer=10000, inner=4000)"
      ]
    },
    {
      "cell_type": "markdown",
      "metadata": {},
      "source": [
        "Debido a que el combustible que queda en los tanques es específico de cada tanque, actualiza la función para usar el nombre de cada tanque en el informe:"
      ]
    },
    {
      "cell_type": "code",
      "execution_count": 54,
      "metadata": {},
      "outputs": [
        {
          "name": "stdout",
          "output_type": "stream",
          "text": [
            "Travel Details\n",
            "    Destination Jupiter\n",
            "    Total flight time 190 minutes\n",
            "    Total fuel left 14000 liters\n",
            "    \n",
            "Fuel details\n",
            "     outer tank has 10000 liters left\n",
            "     inner tank has 4000 liters left\n"
          ]
        }
      ],
      "source": [
        "# Escribe tu nueva función\n",
        "def detailed_report(destination, *minutes, **fuel_reservoirs):\n",
        "    print(\"\"\"Travel Details\n",
        "    Destination {}\n",
        "    Total flight time {} minutes\n",
        "    Total fuel left {} liters\n",
        "    \"\"\".format(destination, sum(minutes), sum(fuel_reservoirs.values())))\n",
        "    print('Fuel details')\n",
        "    for tank, liters in fuel_reservoirs.items():\n",
        "        print('     {} tank has {} liters left'.format(tank, liters))\n",
        "\n",
        "detailed_report('Jupiter', 40, 150, outer=10000, inner=4000)"
      ]
    }
  ],
  "metadata": {
    "interpreter": {
      "hash": "205095b8b86ea82a021a8fc2ffba2b3bc9f8d0be25999901963b225939f75778"
    },
    "kernelspec": {
      "display_name": "Python 3.8.10 64-bit ('tmp': conda)",
      "name": "python3"
    },
    "language_info": {
      "codemirror_mode": {
        "name": "ipython",
        "version": 3
      },
      "file_extension": ".py",
      "mimetype": "text/x-python",
      "name": "python",
      "nbconvert_exporter": "python",
      "pygments_lexer": "ipython3",
      "version": "3.10.2"
    },
    "nteract": {
      "version": "nteract-front-end@1.0.0"
    },
    "orig_nbformat": 4
  },
  "nbformat": 4,
  "nbformat_minor": 2
}
